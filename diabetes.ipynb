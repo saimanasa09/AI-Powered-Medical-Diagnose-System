{
 "cells": [
  {
   "cell_type": "code",
   "execution_count": null,
   "id": "3095f4a5-cb65-434e-acc4-5fb7d848ae8e",
   "metadata": {},
   "outputs": [],
   "source": [
    "import streamlit as st\n",
    "import pandas as pd\n",
    "import numpy as np\n",
    "from sklearn.model_selection import train_test_split\n",
    "from sklearn.preprocessing import StandardScaler\n",
    "from sklearn.ensemble import RandomForestClassifier\n",
    "from sklearn.linear_model import LogisticRegression\n",
    "from sklearn.svm import SVC\n",
    "from sklearn import svm\n",
    "from sklearn import datasets\n",
    "from sklearn.metrics import accuracy_score, roc_auc_score, roc_curve\n",
    "import matplotlib.pyplot as plt\n",
    "import pickle"
   ]
  },
  {
   "cell_type": "code",
   "execution_count": null,
   "id": "37e8ebcb-a2c2-473b-b978-ccde62d22807",
   "metadata": {},
   "outputs": [],
   "source": [
    "diabetes_data=pd.read_csv('./dataset/diabetes.csv')"
   ]
  },
  {
   "cell_type": "code",
   "execution_count": null,
   "id": "618901d8-529b-4376-bf61-44d3e35d3640",
   "metadata": {},
   "outputs": [],
   "source": [
    "diabetes_data.head()"
   ]
  },
  {
   "cell_type": "code",
   "execution_count": null,
   "id": "37d2fab5-f8a8-4499-8c71-69013e564615",
   "metadata": {},
   "outputs": [],
   "source": [
    "diabetes_data.info\n"
   ]
  },
  {
   "cell_type": "code",
   "execution_count": null,
   "id": "18a6baa8-e03a-4a99-908e-85e0eee9a8f9",
   "metadata": {},
   "outputs": [],
   "source": [
    "diabetes_data.shape"
   ]
  },
  {
   "cell_type": "code",
   "execution_count": null,
   "id": "ea4a5090-eb41-4574-b4fd-b4a76ff9703c",
   "metadata": {},
   "outputs": [],
   "source": [
    "diabetes_data.isnull().sum()"
   ]
  },
  {
   "cell_type": "code",
   "execution_count": null,
   "id": "99c51d9d-f0ca-4534-aea9-a57b628dfd40",
   "metadata": {},
   "outputs": [],
   "source": [
    "diabetes_data.describe()"
   ]
  },
  {
   "cell_type": "code",
   "execution_count": null,
   "id": "fb4bd30d-d9de-42f9-acf2-d5a8115d0148",
   "metadata": {},
   "outputs": [],
   "source": [
    "diabetes_data['Pregnancies'].value_counts()"
   ]
  },
  {
   "cell_type": "code",
   "execution_count": null,
   "id": "ab2ea96d-d28c-426a-8c12-79a50ffba158",
   "metadata": {},
   "outputs": [],
   "source": [
    "diabetes_data.groupby('Pregnancies').mean(numeric_only = True)"
   ]
  },
  {
   "cell_type": "code",
   "execution_count": null,
   "id": "97d07bfa-8057-41af-8092-375b2aa87c3d",
   "metadata": {},
   "outputs": [],
   "source": [
    "X = diabetes_data.drop(['','status'], axis=1) # X-->independent values\n",
    "Y = diabetes_data['status'] #Y-->Dependent varible"
   ]
  },
  {
   "cell_type": "code",
   "execution_count": null,
   "id": "f32be211-d7b7-4625-bc09-baabeaece63d",
   "metadata": {},
   "outputs": [],
   "source": []
  },
  {
   "cell_type": "code",
   "execution_count": null,
   "id": "fa0b1225-5524-4ab6-8ebf-8f2baa94f5dd",
   "metadata": {},
   "outputs": [],
   "source": []
  },
  {
   "cell_type": "code",
   "execution_count": null,
   "id": "b3545ace-70a6-44bb-a877-8513c6dc9901",
   "metadata": {},
   "outputs": [],
   "source": []
  },
  {
   "cell_type": "code",
   "execution_count": null,
   "id": "f020f3ee-5524-4253-a872-71334aadf411",
   "metadata": {},
   "outputs": [],
   "source": []
  },
  {
   "cell_type": "code",
   "execution_count": null,
   "id": "63cb2b47-bdc2-45f2-b28f-ae0cd142dab8",
   "metadata": {},
   "outputs": [],
   "source": []
  },
  {
   "cell_type": "code",
   "execution_count": null,
   "id": "62e61db7-4aec-4f0c-9d68-374e542132d4",
   "metadata": {},
   "outputs": [],
   "source": []
  },
  {
   "cell_type": "code",
   "execution_count": null,
   "id": "40c0f383-1938-4fbe-828c-784f2b9b2299",
   "metadata": {},
   "outputs": [],
   "source": []
  },
  {
   "cell_type": "code",
   "execution_count": null,
   "id": "c6a05976-7b8c-4858-aee3-a706c5c8c67f",
   "metadata": {},
   "outputs": [],
   "source": []
  },
  {
   "cell_type": "code",
   "execution_count": null,
   "id": "c649d1f5-289b-4dcd-8a37-7917f50a10b0",
   "metadata": {},
   "outputs": [],
   "source": []
  },
  {
   "cell_type": "code",
   "execution_count": null,
   "id": "3104649d-a1fc-4b9d-93c9-8eef556ab53f",
   "metadata": {},
   "outputs": [],
   "source": []
  },
  {
   "cell_type": "code",
   "execution_count": null,
   "id": "096e7c64-9f31-4d56-af57-d77bfc45200d",
   "metadata": {},
   "outputs": [],
   "source": []
  },
  {
   "cell_type": "code",
   "execution_count": null,
   "id": "baef0519-c031-4bed-b168-a28f3800640a",
   "metadata": {},
   "outputs": [],
   "source": []
  },
  {
   "cell_type": "code",
   "execution_count": null,
   "id": "bd7a946f-ef4e-434e-a4af-6b80b432476e",
   "metadata": {},
   "outputs": [],
   "source": []
  },
  {
   "cell_type": "code",
   "execution_count": null,
   "id": "31a560a3-ee40-4ea1-83d8-f76e783ae39d",
   "metadata": {},
   "outputs": [],
   "source": []
  }
 ],
 "metadata": {
  "kernelspec": {
   "display_name": "Python 3 (ipykernel)",
   "language": "python",
   "name": "python3"
  },
  "language_info": {
   "codemirror_mode": {
    "name": "ipython",
    "version": 3
   },
   "file_extension": ".py",
   "mimetype": "text/x-python",
   "name": "python",
   "nbconvert_exporter": "python",
   "pygments_lexer": "ipython3",
   "version": "3.13.2"
  }
 },
 "nbformat": 4,
 "nbformat_minor": 5
}
